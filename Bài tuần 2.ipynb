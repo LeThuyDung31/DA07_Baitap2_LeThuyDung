{
 "cells": [
  {
   "cell_type": "markdown",
   "id": "8ba7b582",
   "metadata": {},
   "source": [
    "## Bài 1"
   ]
  },
  {
   "cell_type": "code",
   "execution_count": 21,
   "id": "cd790068",
   "metadata": {},
   "outputs": [
    {
     "name": "stdout",
     "output_type": "stream",
     "text": [
      "10.1 giảm từ 5% nên giá cp được mua với giá: 9.5\n",
      "9.5 tăng từ 7% nên giá cp được bán với giá: 10.7\n",
      "10.7 sẽ được giữ nguyên với giá: 10.8\n",
      "10.8 sẽ được giữ nguyên với giá: 10.6\n",
      "10.6 giảm từ 5% nên giá cp được mua với giá: 10.0\n",
      "10.0 sẽ được giữ nguyên với giá: 10.2\n",
      "10.2 giảm từ 5% nên giá cp được mua với giá: 9.5\n"
     ]
    }
   ],
   "source": [
    "gia_theo_ngay= [10.1, 9.5, 10.7, 10.8, 10.6, 10.0, 10.2, 9.5]\n",
    "for i in range(len(gia_theo_ngay)):\n",
    "    #print(gia_theo_ngay[i])\n",
    "    if (i == (len(gia_theo_ngay)-1)):\n",
    "        break\n",
    "    if ((gia_theo_ngay[i]+gia_theo_ngay[i]*7/100) <= gia_theo_ngay[i+1]):\n",
    "        print (gia_theo_ngay[i],\"tăng từ 7% nên giá cp được bán với giá:\", gia_theo_ngay[i+1])\n",
    "    elif ((gia_theo_ngay[i]-gia_theo_ngay[i]*5/100) >= gia_theo_ngay[i+1]):\n",
    "        print (gia_theo_ngay[i],\"giảm từ 5% nên giá cp được mua với giá:\", gia_theo_ngay[i+1])\n",
    "    else:\n",
    "        print (gia_theo_ngay[i],\"sẽ được giữ nguyên với giá:\", gia_theo_ngay[i+1])"
   ]
  },
  {
   "cell_type": "markdown",
   "id": "41be9d36",
   "metadata": {},
   "source": [
    "## Bài 2"
   ]
  },
  {
   "cell_type": "code",
   "execution_count": 7,
   "id": "5c077f64",
   "metadata": {},
   "outputs": [
    {
     "name": "stdout",
     "output_type": "stream",
     "text": [
      "15 không phải là số nguyên tố\n",
      "6 không phải là số nguyên tố\n",
      "19 là số nguyên tố\n",
      "10 không phải là số nguyên tố\n",
      "17 là số nguyên tố\n",
      "7 là số nguyên tố\n",
      "9 không phải là số nguyên tố\n",
      "47 là số nguyên tố\n"
     ]
    }
   ],
   "source": [
    "danh_sach_so= [15,6,19,10,17,7,9,47]\n",
    "for i in danh_sach_so:\n",
    "    uoc = 0\n",
    "    x = 1\n",
    "    while (x <= i):\n",
    "        if i % x == 0:\n",
    "            uoc += 1\n",
    "        x += 1    \n",
    "    if (uoc <= 2):\n",
    "        print(i,\"là số nguyên tố\")\n",
    "    else:\n",
    "        print(i,\"không phải là số nguyên tố\")\n",
    "    "
   ]
  },
  {
   "cell_type": "markdown",
   "id": "38e65510",
   "metadata": {},
   "source": [
    "## Bài 3"
   ]
  },
  {
   "cell_type": "code",
   "execution_count": 11,
   "id": "41898151",
   "metadata": {},
   "outputs": [
    {
     "name": "stdout",
     "output_type": "stream",
     "text": [
      "tiền bảo hiểm xã hội là 250,000.0 đồng\n",
      "tiền thu nhập cá nhân là 125,000.0 đồng\n"
     ]
    }
   ],
   "source": [
    "def tinh_tien(luong,phu_cap):\n",
    "    tong_luong = luong + phu_cap\n",
    "    BHXH = tong_luong * 1/10\n",
    "    PIT = tong_luong * 5/100\n",
    "    print (\"tiền bảo hiểm xã hội là\" ,\"{:,}\".format(BHXH), \"đồng\")\n",
    "    print (\"tiền thu nhập cá nhân là\" ,\"{:,}\".format(PIT), \"đồng\")\n",
    "\n",
    "tinh_tien(2000000,500000)"
   ]
  },
  {
   "cell_type": "code",
   "execution_count": null,
   "id": "bdadc346",
   "metadata": {},
   "outputs": [],
   "source": []
  }
 ],
 "metadata": {
  "kernelspec": {
   "display_name": "Python 3 (ipykernel)",
   "language": "python",
   "name": "python3"
  },
  "language_info": {
   "codemirror_mode": {
    "name": "ipython",
    "version": 3
   },
   "file_extension": ".py",
   "mimetype": "text/x-python",
   "name": "python",
   "nbconvert_exporter": "python",
   "pygments_lexer": "ipython3",
   "version": "3.9.13"
  }
 },
 "nbformat": 4,
 "nbformat_minor": 5
}
